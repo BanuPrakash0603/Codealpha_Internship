{
 "cells": [
  {
   "cell_type": "code",
   "id": "initial_id",
   "metadata": {
    "collapsed": true,
    "ExecuteTime": {
     "end_time": "2025-06-12T16:59:55.112942Z",
     "start_time": "2025-06-12T16:59:54.119880Z"
    }
   },
   "source": [
    "import pandas as pd\n",
    "import numpy as np\n",
    "from sklearn.model_selection import train_test_split\n",
    "from sklearn.preprocessing import LabelEncoder, StandardScaler\n",
    "from sklearn.linear_model import LogisticRegression\n",
    "from sklearn.ensemble import RandomForestClassifier\n",
    "from sklearn.metrics import classification_report, accuracy_score\n",
    "\n",
    "# Load dataset\n",
    "df = pd.read_csv('german_credit_data.csv')\n",
    "\n",
    "# Drop index column if it exists\n",
    "if 'Unnamed: 0' in df.columns:\n",
    "    df.drop('Unnamed: 0', axis=1, inplace=True)\n",
    "\n",
    "# Create synthetic target without leaking the label\n",
    "df['Risk'] = df['Credit amount'].apply(lambda x: 'Bad' if x > 5000 else 'Good')\n",
    "\n",
    "# Encode categorical variables\n",
    "le = LabelEncoder()\n",
    "for col in ['Sex', 'Housing', 'Saving accounts', 'Checking account', 'Purpose']:\n",
    "    df[col] = le.fit_transform(df[col].astype(str))\n",
    "\n",
    "# Define features (exclude 'Credit amount' to prevent leakage)\n",
    "X = df.drop(['Risk', 'Credit amount'], axis=1)\n",
    "y = le.fit_transform(df['Risk'])  # 'Good'=1, 'Bad'=0\n",
    "\n",
    "# Train-test split\n",
    "X_train, X_test, y_train, y_test = train_test_split(X, y, test_size=0.2, random_state=42)\n",
    "\n",
    "# Scale features\n",
    "scaler = StandardScaler()\n",
    "X_train_scaled = scaler.fit_transform(X_train)\n",
    "X_test_scaled = scaler.transform(X_test)\n",
    "\n",
    "# Logistic Regression\n",
    "lr = LogisticRegression()\n",
    "lr.fit(X_train_scaled, y_train)\n",
    "y_pred_lr = lr.predict(X_test_scaled)\n",
    "\n",
    "# Random Forest\n",
    "rf = RandomForestClassifier(n_estimators=100, random_state=42)\n",
    "rf.fit(X_train, y_train)\n",
    "y_pred_rf = rf.predict(X_test)\n",
    "\n",
    "# Evaluate\n",
    "print(\"Logistic Regression Accuracy:\", accuracy_score(y_test, y_pred_lr))\n",
    "print(\"Random Forest Accuracy:\", accuracy_score(y_test, y_pred_rf))\n",
    "\n",
    "print(\"\\nLogistic Regression Report:\\n\", classification_report(y_test, y_pred_lr))\n",
    "print(\"\\nRandom Forest Report:\\n\", classification_report(y_test, y_pred_rf))\n"
   ],
   "outputs": [
    {
     "name": "stdout",
     "output_type": "stream",
     "text": [
      "Logistic Regression Accuracy: 0.905\n",
      "Random Forest Accuracy: 0.905\n",
      "\n",
      "Logistic Regression Report:\n",
      "               precision    recall  f1-score   support\n",
      "\n",
      "           0       0.76      0.53      0.63        30\n",
      "           1       0.92      0.97      0.95       170\n",
      "\n",
      "    accuracy                           0.91       200\n",
      "   macro avg       0.84      0.75      0.79       200\n",
      "weighted avg       0.90      0.91      0.90       200\n",
      "\n",
      "\n",
      "Random Forest Report:\n",
      "               precision    recall  f1-score   support\n",
      "\n",
      "           0       0.70      0.63      0.67        30\n",
      "           1       0.94      0.95      0.94       170\n",
      "\n",
      "    accuracy                           0.91       200\n",
      "   macro avg       0.82      0.79      0.81       200\n",
      "weighted avg       0.90      0.91      0.90       200\n",
      "\n"
     ]
    }
   ],
   "execution_count": 4
  },
  {
   "metadata": {
    "ExecuteTime": {
     "end_time": "2025-06-12T17:00:01.705043Z",
     "start_time": "2025-06-12T17:00:01.698767Z"
    }
   },
   "cell_type": "code",
   "source": "",
   "id": "da9583f378fad211",
   "outputs": [],
   "execution_count": null
  },
  {
   "metadata": {
    "ExecuteTime": {
     "end_time": "2025-06-12T17:00:08.483897Z",
     "start_time": "2025-06-12T17:00:08.478474Z"
    }
   },
   "cell_type": "code",
   "source": "",
   "id": "9c33bc8e3faf772d",
   "outputs": [],
   "execution_count": null
  },
  {
   "metadata": {},
   "cell_type": "code",
   "outputs": [],
   "execution_count": null,
   "source": "",
   "id": "5b6b6cef53e8769b"
  }
 ],
 "metadata": {
  "kernelspec": {
   "display_name": "Python 3",
   "language": "python",
   "name": "python3"
  },
  "language_info": {
   "codemirror_mode": {
    "name": "ipython",
    "version": 2
   },
   "file_extension": ".py",
   "mimetype": "text/x-python",
   "name": "python",
   "nbconvert_exporter": "python",
   "pygments_lexer": "ipython2",
   "version": "2.7.6"
  }
 },
 "nbformat": 4,
 "nbformat_minor": 5
}
